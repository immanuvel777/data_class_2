{
  "nbformat": 4,
  "nbformat_minor": 0,
  "metadata": {
    "colab": {
      "provenance": [],
      "authorship_tag": "ABX9TyMZf8eh5vX+AUmJu43d/yro",
      "include_colab_link": true
    },
    "kernelspec": {
      "name": "python3",
      "display_name": "Python 3"
    },
    "language_info": {
      "name": "python"
    }
  },
  "cells": [
    {
      "cell_type": "markdown",
      "metadata": {
        "id": "view-in-github",
        "colab_type": "text"
      },
      "source": [
        "<a href=\"https://colab.research.google.com/github/immanuvel777/data_class_2/blob/main/test_1.ipynb\" target=\"_parent\"><img src=\"https://colab.research.google.com/assets/colab-badge.svg\" alt=\"Open In Colab\"/></a>"
      ]
    },
    {
      "cell_type": "code",
      "execution_count": null,
      "metadata": {
        "id": "3brkmxpuPkid"
      },
      "outputs": [],
      "source": [
        "emp={\"name\":\"iman\",\"age\":\"30\",\"income\":\"25000\"}"
      ]
    },
    {
      "cell_type": "code",
      "source": [
        "emp[\"income\"]"
      ],
      "metadata": {
        "colab": {
          "base_uri": "https://localhost:8080/",
          "height": 36
        },
        "id": "Iq9xKFbWP3di",
        "outputId": "1d5ba14e-3ffd-4afc-94be-5f4c821ce4cb"
      },
      "execution_count": null,
      "outputs": [
        {
          "output_type": "execute_result",
          "data": {
            "text/plain": [
              "'25000'"
            ],
            "application/vnd.google.colaboratory.intrinsic+json": {
              "type": "string"
            }
          },
          "metadata": {},
          "execution_count": 2
        }
      ]
    },
    {
      "cell_type": "code",
      "source": [
        "emp[\"mobil\"]=773646"
      ],
      "metadata": {
        "id": "y_vJJJqQQNUx"
      },
      "execution_count": null,
      "outputs": []
    },
    {
      "cell_type": "code",
      "source": [
        "emp"
      ],
      "metadata": {
        "colab": {
          "base_uri": "https://localhost:8080/"
        },
        "id": "03bYZNkEQ79J",
        "outputId": "c55a90b9-1e29-4227-9fff-f9b4626712de"
      },
      "execution_count": null,
      "outputs": [
        {
          "output_type": "execute_result",
          "data": {
            "text/plain": [
              "{'name': 'iman', 'age': '30', 'income': '25000', 'mobil': 773646}"
            ]
          },
          "metadata": {},
          "execution_count": 4
        }
      ]
    },
    {
      "cell_type": "code",
      "source": [
        "emp[\"mobil\"]"
      ],
      "metadata": {
        "colab": {
          "base_uri": "https://localhost:8080/"
        },
        "id": "bg7AzMGAQ9rp",
        "outputId": "d016cc34-6236-435c-cf68-ac95404e413b"
      },
      "execution_count": null,
      "outputs": [
        {
          "output_type": "execute_result",
          "data": {
            "text/plain": [
              "773646"
            ]
          },
          "metadata": {},
          "execution_count": 7
        }
      ]
    },
    {
      "cell_type": "code",
      "source": [
        "guvi_emp={\"empId\":[41,42,43,44,45,46,47,48,],\n",
        "           \"name\":[\"rajesh\",\"kumar\",\"kamal\",\"saran\",\"iswarya\",\"karthi\",\"divya\",\"davi\"],\n",
        "           \"designation\":[\"developer\",\"tester\",\"tl\",\"manager\",\"jr_developer\",\"account6\",\"hr\",\"admin\"],\n",
        "           \"salary\":[25000,30000,35000,40000,20000,15000,13000,22000]}"
      ],
      "metadata": {
        "id": "jZ3N_ZyiVf6g"
      },
      "execution_count": null,
      "outputs": []
    },
    {
      "cell_type": "code",
      "source": [
        "print(f\"employee_Id:{guvi_emp['empId'][0]}\")\n",
        "print(f\"employee_name:{guvi_emp['name'][0]}\")\n",
        "print(f\"employee_designation:{guvi_emp['designation'][0]}\")\n",
        "print(f\"employee_salary:{guvi_emp['salary'][0]}\")"
      ],
      "metadata": {
        "colab": {
          "base_uri": "https://localhost:8080/"
        },
        "id": "TMIV7h1qgS4W",
        "outputId": "97205694-2fec-491c-a112-a61f00851c99"
      },
      "execution_count": null,
      "outputs": [
        {
          "output_type": "stream",
          "name": "stdout",
          "text": [
            "employee_Id:41\n",
            "employee_name:rajesh\n",
            "employee_designation:developer\n",
            "employee_salary:25000\n"
          ]
        }
      ]
    },
    {
      "cell_type": "code",
      "source": [
        "user_emp_id=int(input(\"enter_eployee_id:\"))\n",
        "pos=guvi_emp['empId'].index(user_emp_id)\n",
        "pos\n",
        "\n",
        "print(f\"employee_Id:{guvi_emp['empId'][pos]}\")\n",
        "print(f\"employee_name:{guvi_emp['name'][pos]}\")\n",
        "print(f\"employee_designation:{guvi_emp['designation'][pos]}\")\n",
        "print(f\"employee_salary:{guvi_emp['salary'][pos]}\")"
      ],
      "metadata": {
        "colab": {
          "base_uri": "https://localhost:8080/"
        },
        "id": "5ApBDnFp68ie",
        "outputId": "025ed66a-6d9b-4286-e68a-39055a66388b"
      },
      "execution_count": null,
      "outputs": [
        {
          "output_type": "stream",
          "name": "stdout",
          "text": [
            "enter_eployee_id:45\n",
            "employee_Id:45\n",
            "employee_name:iswarya\n",
            "employee_designation:jr_developer\n",
            "employee_salary:20000\n"
          ]
        }
      ]
    },
    {
      "cell_type": "code",
      "source": [
        "names=[\"raja\",\"ravi\",\"guna\"]\n",
        "values=60\n",
        "\n",
        "epm=dict.fromkeys(names,values)\n",
        "epm\n"
      ],
      "metadata": {
        "colab": {
          "base_uri": "https://localhost:8080/"
        },
        "id": "zQp2QDYb8Ykl",
        "outputId": "a3591ed6-53b0-49cb-e74e-840bac04392e"
      },
      "execution_count": null,
      "outputs": [
        {
          "output_type": "execute_result",
          "data": {
            "text/plain": [
              "{'raja': 60, 'ravi': 60, 'guna': 60}"
            ]
          },
          "metadata": {},
          "execution_count": 51
        }
      ]
    },
    {
      "cell_type": "code",
      "source": [
        "guvi_emp={\"Empl_ID\":[101,102,103,104,105,106],\n",
        "          \"Name\":[\"iman\",\"ravi\",\"sivaji\",\"rani\",\"glory\",\"ezekiel\"],\n",
        "          \"desig\":[\"manager\",\"gm\",\"agm\",\"acoount\",\"sales\",\"TL\",],\n",
        "          \"salary\":[45000,40000,35000,30000,25000,20000]}"
      ],
      "metadata": {
        "id": "IVrtayh6HjPT"
      },
      "execution_count": null,
      "outputs": []
    },
    {
      "cell_type": "code",
      "source": [
        "user_emp_id=int(input(\"enter employee ID:\"))\n",
        "pos=guvi_emp['Empl_ID'].index(user_emp_id)\n",
        "pos\n",
        "\n",
        "print(f\"employee_ID:{guvi_emp['Empl_ID'][pos]}\")\n",
        "print(f\"employee_name:{guvi_emp['Name'][pos]}\")\n",
        "print(f\"employee_desig:{guvi_emp['desig'][pos]}\")\n",
        "print(f\"employee_salary:{guvi_emp['salary'][pos]}\")"
      ],
      "metadata": {
        "colab": {
          "base_uri": "https://localhost:8080/"
        },
        "id": "Iv40t4BGpt-h",
        "outputId": "c820d277-40d4-4bff-8d2f-77ff2b255527"
      },
      "execution_count": null,
      "outputs": [
        {
          "output_type": "stream",
          "name": "stdout",
          "text": [
            "enter employee ID:104\n",
            "employee_ID:104\n",
            "employee_name:rani\n",
            "employee_desig:acoount\n",
            "employee_salary:30000\n"
          ]
        }
      ]
    },
    {
      "cell_type": "code",
      "source": [
        "age=int(input(\"enter your age\"))\n",
        "if age>18:\n",
        "  print(\"your eligible for vote\")\n",
        "else:\n",
        "  print(\"your not eligible for vote\")"
      ],
      "metadata": {
        "colab": {
          "base_uri": "https://localhost:8080/"
        },
        "id": "b4pk1hH1sPLz",
        "outputId": "17254ab1-83d9-4e06-bf2a-de2d0556d694"
      },
      "execution_count": null,
      "outputs": [
        {
          "output_type": "stream",
          "name": "stdout",
          "text": [
            "enter your age50\n",
            "your eligible for vote\n"
          ]
        }
      ]
    },
    {
      "cell_type": "code",
      "source": [
        "name=input(\"enter your name: \")\n",
        "mark=int(input(\"enter your mark: \"))\n",
        "\n",
        "if mark>=91 and mark<=100:\n",
        "  print(f\"{name} your mark is {mark} so your eligible for docter\")\n",
        "elif mark>=81 and mark<=90:\n",
        "  print(f\"{name} your mark is {mark} so your eligible for engeenear\")\n",
        "elif mark>=71 and mark<=80:\n",
        "  print(f\"{name} your mark is {mark} so your eligible for commerce\")\n",
        "elif mark>=61 and mark<=70:\n",
        "  print(f\"{name} your mark is {mark} so your eligible for arts\")\n",
        "else:\n",
        "  print(f\"{name} your mark is {mark} so your not eligible\")"
      ],
      "metadata": {
        "colab": {
          "base_uri": "https://localhost:8080/"
        },
        "id": "TZb2r5OM6hdS",
        "outputId": "e6defc67-a952-4e7b-fadf-cb59de7ee204"
      },
      "execution_count": null,
      "outputs": [
        {
          "output_type": "stream",
          "name": "stdout",
          "text": [
            "enter your name: rani\n",
            "enter your mark: 98\n",
            "rani your mark is 98 so your eligible for docter\n"
          ]
        }
      ]
    },
    {
      "cell_type": "code",
      "source": [
        "name=input(\"enter your name: \")\n",
        "mark=int(input(\"enter your mark: \"))\n",
        "\n",
        "if mark>=91 and mark<=100:\n",
        "  neet=int(input(\"enter your neet mark: \"))\n",
        "  if neet>=90:\n",
        "    print(f\"{name} your mark is {mark} your neet score is {neet} since your eligible for docter\")\n",
        "  else:\n",
        "    print(f\"{name} your marks is {mark} your neet mark is {neet} since your nor eligible so you go other corses \")\n",
        "elif mark>=81 and mark<=90:\n",
        "  print(f\"{name} your mark is {mark} so your eligible for engeenear\")\n",
        "elif mark>=71 and mark<=80:\n",
        "  print(f\"{name} your mark is {mark} so your eligible for commerce\")\n",
        "elif mark>=61 and mark<=70:\n",
        "  print(f\"{name} your mark is {mark} so your eligible for arts\")\n",
        "else:\n",
        "  print(f\"{name} your mark is {mark} so your not eligible\")"
      ],
      "metadata": {
        "id": "ajGwcjT9-SU9",
        "colab": {
          "base_uri": "https://localhost:8080/"
        },
        "outputId": "9ff8bf7c-9acc-49d0-c797-05a63e12008b"
      },
      "execution_count": 6,
      "outputs": [
        {
          "output_type": "stream",
          "name": "stdout",
          "text": [
            "enter your name: rani\n",
            "enter your mark: 98\n",
            "enter your neet mark: 92\n",
            "rani your mark is 98 your neet score is 92 since your eligible for docter\n"
          ]
        }
      ]
    },
    {
      "cell_type": "code",
      "source": [
        "# loops\n",
        "# for loop ex-1\n",
        "\n",
        "\n",
        "name=[20,30,40,50]\n",
        "\n",
        "for i in name:\n",
        "  print(i)"
      ],
      "metadata": {
        "colab": {
          "base_uri": "https://localhost:8080/"
        },
        "id": "QKegjjWDcybc",
        "outputId": "d67769d7-07ef-4d7a-eabb-42912dfe4bda"
      },
      "execution_count": 7,
      "outputs": [
        {
          "output_type": "stream",
          "name": "stdout",
          "text": [
            "20\n",
            "30\n",
            "40\n",
            "50\n"
          ]
        }
      ]
    },
    {
      "cell_type": "code",
      "source": [
        "# ex-1\n",
        "\n",
        "a=6\n",
        "\n",
        "if a%2==0:\n",
        "  print(\"even\")\n",
        "else:\n",
        "  print(\"odd\")"
      ],
      "metadata": {
        "colab": {
          "base_uri": "https://localhost:8080/"
        },
        "id": "Fyj5CwG5htTr",
        "outputId": "8a5cad21-9237-4aa8-d239-e1dc0ad45ca6"
      },
      "execution_count": 8,
      "outputs": [
        {
          "output_type": "stream",
          "name": "stdout",
          "text": [
            "even\n"
          ]
        }
      ]
    },
    {
      "cell_type": "code",
      "source": [
        "# ex-2\n",
        "\n",
        "a=5\n",
        "\n",
        "if a%2==0:\n",
        "  print(\"even\")\n",
        "else:\n",
        "  print(\"odd\")"
      ],
      "metadata": {
        "colab": {
          "base_uri": "https://localhost:8080/"
        },
        "id": "yrjZ4wBumDDq",
        "outputId": "3649a75c-88e9-4b65-bebe-8fa864e194d4"
      },
      "execution_count": 9,
      "outputs": [
        {
          "output_type": "stream",
          "name": "stdout",
          "text": [
            "odd\n"
          ]
        }
      ]
    },
    {
      "cell_type": "code",
      "source": [
        "name=[10,20,45,38,51,64,99,73]\n",
        "\n",
        "for n in name:\n",
        "  if n%2==0:\n",
        "    print(f\"{n} is even\")\n",
        "  else:\n",
        "    print(f\"{n} is odd\")"
      ],
      "metadata": {
        "colab": {
          "base_uri": "https://localhost:8080/"
        },
        "id": "3HwP8pzymIq4",
        "outputId": "92882959-810e-4804-c2fd-c81f7ade7854"
      },
      "execution_count": 10,
      "outputs": [
        {
          "output_type": "stream",
          "name": "stdout",
          "text": [
            "10 is even\n",
            "20 is even\n",
            "45 is odd\n",
            "38 is even\n",
            "51 is odd\n",
            "64 is even\n",
            "99 is odd\n",
            "73 is odd\n"
          ]
        }
      ]
    },
    {
      "cell_type": "code",
      "source": [
        "nams=[10,20,33,45,66,78,100,200,25,64,84,5,7,8,9,1,2,4,6]\n",
        "\n",
        "\n",
        "name_3=[]\n",
        "name_5=[]\n",
        "name_7=[]\n",
        "\n",
        "for n in nams:\n",
        "  if n%3==0:\n",
        "    name_3.append(n)\n",
        "  if n%5==0:\n",
        "    name_5.append(n)\n",
        "  if n%7==0:\n",
        "    name_7.append(n)\n",
        "\n",
        "\n",
        "print(*name_3)\n",
        "print(*name_5)\n",
        "print(*name_7)\n"
      ],
      "metadata": {
        "colab": {
          "base_uri": "https://localhost:8080/"
        },
        "id": "Ja1Jpnt5nNmx",
        "outputId": "b6311247-bb93-4ed0-e20a-93686ced57f4"
      },
      "execution_count": 24,
      "outputs": [
        {
          "output_type": "stream",
          "name": "stdout",
          "text": [
            "33 45 66 78 84 9 6\n",
            "10 20 45 100 200 25 5\n",
            "84 7\n"
          ]
        }
      ]
    },
    {
      "cell_type": "code",
      "source": [
        ""
      ],
      "metadata": {
        "id": "TYXdCD9Vqzcg"
      },
      "execution_count": null,
      "outputs": []
    }
  ]
}